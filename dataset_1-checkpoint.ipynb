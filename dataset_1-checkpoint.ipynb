{
  "metadata": {
    "kernelspec": {
      "name": "python",
      "display_name": "Python (Pyodide)",
      "language": "python"
    },
    "language_info": {
      "codemirror_mode": {
        "name": "python",
        "version": 3
      },
      "file_extension": ".py",
      "mimetype": "text/x-python",
      "name": "python",
      "nbconvert_exporter": "python",
      "pygments_lexer": "ipython3",
      "version": "3.8"
    }
  },
  "nbformat_minor": 5,
  "nbformat": 4,
  "cells": [
    {
      "id": "90e43fb1-6eba-4da7-82fd-bb1086528804",
      "cell_type": "code",
      "source": "import pandas as pd\nimport matplotlib.pyplot as plt\nimport seaborn as snb\n\n# Load the ratings dataset\nratings = pd.read_csv('ratings.csv')\nprint(ratings)\n\n# Display the first and last few rows\nprint(ratings.head())\nprint(ratings.tail())\n\n# Display dataset information and summary statistics\nratings.info()  # Shows data types and non-null values\nprint(ratings.shape)  # Prints the shape of the dataset (rows, columns)\nprint(ratings.describe())  # Statistical summary\n\n# Find movies with the highest rating (assuming 5 is the highest rating)\nhighest_rated_movies = ratings[ratings['rating'] == 5.0]\nprint(highest_rated_movies)\n\n# Load the movies metadata dataset\nmovies_metadata = pd.read_csv('movies_metadata.csv')\nprint(movies_metadata.describe())\n\n# Find the movie with the highest runtime\nhighest_runtime_movie = movies_metadata.loc[movies_metadata['runtime'].idxmax()]\nprint(highest_runtime_movie)\n\n# Group by runtime and sum revenue, then sort values\ntotal_revenue_per_runtime = movies_metadata.groupby('runtime')['revenue'].sum().sort_values(ascending=False)\nprint(total_revenue_per_runtime)\n\n# Sort movies by vote count and release date\ndata3 = movies_metadata.groupby('vote_count')['release_date'].apply(list)\nprint(data3)\n\n# Find top 10 movies with the highest revenue\ntop_10_revenue = movies_metadata.nlargest(10, 'revenue')\nprint(top_10_revenue[['title', 'revenue']])\n\n# Load IMDB dataset\ndata3 = pd.read_csv('IMDB1000.csv')\nprint(data3.describe())\n\n# Extract genres\ngenres_list = []\nfor genre in data3['Genre']:\n    genres_list.append(genre)\n\n# Load another IMDB dataset\ndata4 = pd.read_csv('IMDB-Movie-Data.csv')\n\n# Find top 10 revenue-generating movies\ntop_10_revenue_movies = data4.nlargest(10, 'Revenue (Millions)')[['original_title', 'Revenue (Millions)']]\nprint(top_10_revenue_movies.sort_values('Revenue (Millions)', ascending=False))\n\n# Extract genres and get unique values\ngenre_set = set()\nfor genre_entry in data4['Genre']:\n    for genre in genre_entry.split(','):\n        genre_set.add(genre.strip())\nprint(genre_set)\n\n# Total revenue per year\ntotal_revenue_per_year = data4.groupby('Year')['Revenue (Millions)'].sum()\nprint(total_revenue_per_year.sort_values(ascending=False).max())\n\n# Plot revenue per year\nplt.figure(figsize=(12, 6))\nsnb.barplot(x=total_revenue_per_year.index, y=total_revenue_per_year.values)\nplt.xlabel(\"Year\")\nplt.ylabel(\"Total Revenue (Millions)\")\nplt.title(\"Total Revenue per Year\")\nplt.xticks(rotation=45)\nplt.show()\n\n# Top 10 highest revenue movies visualization\ntop_10 = data4.nlargest(10, 'Revenue (Millions)')\nsnb.barplot(x='Revenue (Millions)', y='Title', hue='Title', data=top_10)\nplt.title(\"Top 10 Highest Revenue Generating Movies\")\nplt.show()\n\n# Top 10 highest-rated movies visualization\ntop_10_rating = data4.nlargest(10, 'Rating')\nsnb.barplot(x='Rating', y='Title', hue='Title', data=top_10_rating)\nplt.title(\"Top 10 Rated Movies\")\nplt.show()\n\n# Count plot for number of movies released per year\nsnb.countplot(x=\"Year\", data=data4)\nplt.title(\"Number of Movies per Year\")\nplt.show()\n\n# Load Excel dataset\ndata1 = pd.read_excel('data1.xlsx')\nprint(data1.columns)\nprint(data1.describe())\n\n# Count plot for number of action movies per year\naction_movies = data4[data4['Genre'].str.contains(\"Action\", case=False, na=False)]\nsnb.countplot(x='Year', data=action_movies)\nplt.title(\"Number of Action Movies per Year\")\nplt.xticks(rotation=45)\nplt.show()\n\n# Homework task: Scatter plot vs Density plot for an actor (e.g., Aamir Khan)\naamir_khan_movies = data4[data4['Actors'].str.contains(\"Aamir Khan\", case=False, na=False)]\nsnb.scatterplot(x='Year', y='Revenue (Millions)', data=aamir_khan_movies)\nplt.title(\"Aamir Khan Movies Revenue Over Years\")\nplt.show()\n\nsnb.kdeplot(x='Year', data=aamir_khan_movies)\nplt.title(\"Density Distribution of Aamir Khan Movies\")\nplt.show()\n",
      "metadata": {
        "trusted": true
      },
      "outputs": [],
      "execution_count": null
    },
    {
      "id": "6b8b45c4-f058-47d2-9964-735c2b8492e4",
      "cell_type": "code",
      "source": "",
      "metadata": {
        "trusted": true
      },
      "outputs": [],
      "execution_count": null
    }
  ]
}