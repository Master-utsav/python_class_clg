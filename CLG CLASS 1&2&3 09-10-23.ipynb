{
 "cells": [
  {
   "cell_type": "code",
   "execution_count": 1,
   "id": "6dbb7b49",
   "metadata": {},
   "outputs": [
    {
     "name": "stdout",
     "output_type": "stream",
     "text": [
      "greatest number is\n",
      "30\n",
      "thankyou\n"
     ]
    }
   ],
   "source": [
    "a,b,c = 10,20,30\n",
    "\n",
    "if a>b and b>c:\n",
    "    print(\"greatest number is\")\n",
    "    print(a)\n",
    "elif b>c and b>a:\n",
    "    print(\"greatest number is\")\n",
    "    print(b)\n",
    "elif c>a and c>b:\n",
    "    print(\"greatest number is\")\n",
    "    print(c)\n",
    "    \n",
    "    print(\"thankyou\")"
   ]
  },
  {
   "cell_type": "code",
   "execution_count": 2,
   "id": "b8b6df92",
   "metadata": {},
   "outputs": [
    {
     "name": "stdin",
     "output_type": "stream",
     "text": [
      " 12\n",
      " 12\n",
      " 12\n"
     ]
    }
   ],
   "source": [
    "a = input();\n",
    "b = input();\n",
    "c = input();\n",
    "\n",
    "if a>b and b>c:\n",
    "    print(\"greatest number is\")\n",
    "    print(a)\n",
    "elif b>c and b>a:\n",
    "    print(\"greatest number is\")\n",
    "    print(b)\n",
    "elif c>a and c>b:\n",
    "    print(\"greatest number is\")\n",
    "    print(c)\n",
    "    \n",
    "    print(\"thankyou\")"
   ]
  },
  {
   "cell_type": "code",
   "execution_count": 3,
   "id": "3f84c84f",
   "metadata": {},
   "outputs": [
    {
     "name": "stdin",
     "output_type": "stream",
     "text": [
      " 12\n",
      " 12\n",
      " 121\n"
     ]
    },
    {
     "name": "stdout",
     "output_type": "stream",
     "text": [
      "greatest number is\n",
      "121\n",
      "thankyou\n"
     ]
    }
   ],
   "source": [
    "a = int(input());\n",
    "b = int(input());\n",
    "c = int(input());\n",
    "\n",
    "if a>b and b>c:\n",
    "    print(\"greatest number is\")\n",
    "    print(a)\n",
    "elif b>c and b>a:\n",
    "    print(\"greatest number is\")\n",
    "    print(b)\n",
    "elif c>a and c>b:\n",
    "    print(\"greatest number is\")\n",
    "    print(c)\n",
    "    \n",
    "    print(\"thankyou\")"
   ]
  },
  {
   "cell_type": "code",
   "execution_count": 4,
   "id": "54cd736f",
   "metadata": {},
   "outputs": [
    {
     "name": "stdin",
     "output_type": "stream",
     "text": [
      " 1213\n",
      " 1213\n",
      " 1213\n"
     ]
    },
    {
     "name": "stdout",
     "output_type": "stream",
     "text": [
      "12131213\n"
     ]
    }
   ],
   "source": [
    "a = input()\n",
    "b = input()\n",
    "c = input()\n",
    "x = b + c\n",
    "\n",
    "print(x)\n"
   ]
  },
  {
   "cell_type": "code",
   "execution_count": 5,
   "id": "dd77017c-4727-48e7-b922-a7c76244a6fc",
   "metadata": {},
   "outputs": [
    {
     "name": "stdout",
     "output_type": "stream",
     "text": [
      "[1, 2, 3, 4]\n",
      "[1, 2, 3, 4]\n",
      "2\n",
      "3\n",
      "[1, 2]\n",
      "[3, 4]\n",
      "[2, 4, 6, 8]\n",
      "[1, 3, 4]\n",
      "[1, 3]\n",
      "[1, 2, 3, 4, 5, 6, 7, 8]\n"
     ]
    }
   ],
   "source": [
    "list_name = [1,2,3,4]\n",
    "\n",
    "# it is possible to create list under list ie nested list\n",
    "print(list_name)\n",
    "# print all vlaue of list \n",
    "print(list_name[:])\n",
    "# count index from the left side of a list\n",
    "print(list_name[1])\n",
    "# count index from the left side of a list\n",
    "print(list_name[-2])\n",
    "# not inc. last given value index but left side inc. \n",
    "print(list_name[0 : 2])\n",
    "\n",
    "# print upto last but we here define the initital index of the list \n",
    "print(list_name[2:])\n",
    "\n",
    "# list_up step value \n",
    "list_name2 = [1,2,3,4,5,6,7,8,9]\n",
    "print(list_name2[1::2]) # str value : end vlue : step vlue \n",
    "\n",
    "list_name.remove(2) # it remove the exact elemnet from an list not  from the index of A list\n",
    "print(list_name)\n",
    "\n",
    "list_name.pop(2) # it pop out the element form the index of that list \n",
    "print(list_name)\n",
    "\n",
    "list_name = [1,2,3,4,5,6,7,8,9] # this will also work as same as pop but not same as remove\n",
    "del list_name[8]\n",
    "print(list_name)\n"
   ]
  },
  {
   "cell_type": "code",
   "execution_count": 6,
   "id": "32b3ba76-0c36-471c-ad35-7ef8679c3060",
   "metadata": {},
   "outputs": [
    {
     "name": "stdout",
     "output_type": "stream",
     "text": [
      "[1, 2, 3, 4, 5, 6, 7, 8, 9, 0, 'utsav', [12, 13, 14, 15]]\n"
     ]
    }
   ],
   "source": [
    "# list append\n",
    "\n",
    "list_0 = [1,2,3,4,5,6,7,8,9]\n",
    "list_0.append(0)\n",
    "list_0.append(\"utsav\")\n",
    "list_0.append([12,13,14,15])\n",
    "\n",
    "print(list_0)"
   ]
  },
  {
   "cell_type": "code",
   "execution_count": 7,
   "id": "aee723b4-80f9-4a04-b49c-21bbf567dc8a",
   "metadata": {},
   "outputs": [
    {
     "name": "stdout",
     "output_type": "stream",
     "text": [
      "[1, 2, 3, 10, 4, 5, 6, 7, 8, 9]\n"
     ]
    }
   ],
   "source": [
    "# list insert\n",
    "list_0 = [1,2,3,4,5,6,7,8,9]\n",
    "list_0.insert(3, 10)\n",
    "print(list_0)"
   ]
  },
  {
   "cell_type": "code",
   "execution_count": 8,
   "id": "ad8b005f-db61-4f09-bd03-95ef99062218",
   "metadata": {},
   "outputs": [
    {
     "name": "stdout",
     "output_type": "stream",
     "text": [
      "[1, 2, 3, 4, 5, 6, 7, 8, 9, 0, 'utsav', 12, 13, 14, 15]\n"
     ]
    }
   ],
   "source": [
    "# list extend you can also use + \n",
    "list_0 = [1,2,3,4,5,6,7,8,9] \n",
    "list_0.append(0)\n",
    "list_0.append(\"utsav\")\n",
    "list_0.extend([12,13,14,15])\n",
    "\n",
    "print(list_0)\n"
   ]
  },
  {
   "cell_type": "code",
   "execution_count": 9,
   "id": "ce6b9157-2316-448a-a9b8-5b8a60539595",
   "metadata": {},
   "outputs": [
    {
     "name": "stdout",
     "output_type": "stream",
     "text": [
      "[2, 2, 3, 3, 5, 67, 562, 566, 64567]\n"
     ]
    }
   ],
   "source": [
    "# sorting \n",
    "list_0 = [3,562,3,5,2,67,2,566,64567]\n",
    "list_0 = sorted(list_0)\n",
    "print(list_0)\n",
    "\n",
    "#sort used for dec.\n",
    "\n"
   ]
  },
  {
   "cell_type": "code",
   "execution_count": 10,
   "id": "06d77087-b7e2-46fc-a867-113cc03ca5f5",
   "metadata": {},
   "outputs": [
    {
     "name": "stdout",
     "output_type": "stream",
     "text": [
      "True\n",
      "False\n"
     ]
    }
   ],
   "source": [
    "# identity operator\n",
    "list_0 = [1,2,3,4,5,6,7,8,9] \n",
    "list_1 = list_0\n",
    "print(list_0 is list_1) \n",
    "\n",
    "list_1 = list_0.append(5)\n",
    "print(list_0 is list_1)\n",
    "\n",
    "\n",
    "\n",
    "\n"
   ]
  },
  {
   "cell_type": "code",
   "execution_count": 12,
   "id": "74127a13-b730-4391-ae4d-07e67d9b847d",
   "metadata": {},
   "outputs": [
    {
     "name": "stdout",
     "output_type": "stream",
     "text": [
      "True\n",
      "False\n"
     ]
    }
   ],
   "source": [
    "# membership operator\n",
    "list_0 = [1,2,3,4]\n",
    "print(3 in list_0) # return true if 3 is in the list_1\n",
    "print(3 not in list_0) # return false if 3 is in the list_1"
   ]
  },
  {
   "cell_type": "code",
   "execution_count": 21,
   "id": "4ca63c69-96a3-4827-8da7-8d90d8670791",
   "metadata": {},
   "outputs": [
    {
     "name": "stdin",
     "output_type": "stream",
     "text": [
      "Enter a number:  3456\n"
     ]
    },
    {
     "name": "stdout",
     "output_type": "stream",
     "text": [
      "Reversed number: 6543\n"
     ]
    }
   ],
   "source": [
    "# while loop conditional statemnet\\\n",
    "def reverse_number(num):\n",
    "    # Initialize a variable to store the reversed number\n",
    "    reversed_num = 0\n",
    "    \n",
    "    while num > 0:\n",
    "        # Extract the last digit of the number using the modulo operator\n",
    "        last_digit = num % 10\n",
    "        \n",
    "        # Append the last digit to the reversed number\n",
    "        reversed_num = (reversed_num * 10) + last_digit\n",
    "        \n",
    "        # Remove the last digit from the original number\n",
    "        num = num // 10\n",
    "    \n",
    "    return reversed_num\n",
    "\n",
    "# Input a number from the user\n",
    "num = int(input(\"Enter a number: \"))\n",
    "\n",
    "# Call the reverse_number function to get the reversed number\n",
    "reversed_result = reverse_number(num)\n",
    "\n",
    "# Display the reversed number\n",
    "print(\"Reversed number:\", reversed_result)"
   ]
  },
  {
   "cell_type": "code",
   "execution_count": 20,
   "id": "855a9d80-1c7b-4b0e-b3e2-b9748354c991",
   "metadata": {},
   "outputs": [
    {
     "name": "stdout",
     "output_type": "stream",
     "text": [
      "1\n",
      "2\n",
      "3\n",
      "4\n",
      "5\n",
      "6\n",
      "7\n",
      "8\n",
      "9\n"
     ]
    }
   ],
   "source": [
    "# for loop' \n",
    "\n",
    "for i in range( 1, 10): #10 is in open bracket always\n",
    "    print(i)\n",
    "    i += 1"
   ]
  },
  {
   "cell_type": "code",
   "execution_count": null,
   "id": "10c725e5-2b6c-47f0-8f8c-c5e137aadce3",
   "metadata": {},
   "outputs": [],
   "source": [
    "# break continue chindi topic hai koi bhi karleg\n"
   ]
  },
  {
   "cell_type": "code",
   "execution_count": null,
   "id": "eadddf23-8fc7-4324-bb33-dca5e197ecf0",
   "metadata": {},
   "outputs": [],
   "source": [
    "# 2-d matrix by for loop in range easily set that \n",
    "\n"
   ]
  },
  {
   "cell_type": "code",
   "execution_count": 19,
   "id": "7b385f8c-58e4-43eb-bf99-7e87850673c2",
   "metadata": {},
   "outputs": [
    {
     "name": "stdout",
     "output_type": "stream",
     "text": [
      "(1, 2, 3)\n",
      "(1, 2, 3, 4.4, 'hello', 0.0002, [1, 2, 3], (1, 2, 3))\n",
      "(1, 2, 3, 4.4, 'hello', 0.0002, [9, 2, 3], (1, 2, 3))\n",
      "(1, 2, 3, 4.4, 'hello', 0.0002, [9, 2, 3, 10], (1, 2, 3))\n",
      "(3, 2, 1)\n",
      "('utsav', 'jaiswal')\n",
      "<class 'tuple'>\n",
      "6\n",
      "1\n",
      "56\n",
      "73\n"
     ]
    }
   ],
   "source": [
    "# tuples --> immutable indexed data str\n",
    "# creation\n",
    "t = () # --> empty tuple in tuples , important but not parenthesisi\n",
    "t = (1,2,3)\n",
    "print(t)\n",
    "\n",
    "t = (1,2,3,4.4, \"hello\" , 0.0002 , [1,2,3] , (1,2,3))\n",
    "print(t)# 2-d matrix by for loop in range easily set that \n",
    "\n",
    "# you can do slicing operations in tuples\n",
    "\n",
    "# del t   it delte the entier tuple\n",
    "\n",
    "# we cant change tuple but we can change the value of list items if there is a list in our tupple\n",
    "\n",
    "t = (1,2,3,4.4, \"hello\" , 0.0002 , [1,2,3] , (1,2,3)) \n",
    "t[-2][0] = 9 # example\n",
    "print(t)\n",
    "\n",
    "t[-2].append(10) #c we can append too\n",
    "print(t)\n",
    "\n",
    "# sorting in tuples\n",
    "\n",
    "t = (3,2,1)\n",
    "\n",
    "# check cehck check check\n",
    "print(t)\n",
    "\n",
    "t = \"utsav\" , \"jaiswal\"\n",
    "print(t)\n",
    "print(type(t))\n",
    "\n",
    "# functions\n",
    "t = 1,2,3,4,56,7\n",
    "print(len(t))\n",
    "print(min(t))\n",
    "print(max(t))\n",
    "print(sum(t))\n",
    "\n"
   ]
  },
  {
   "cell_type": "code",
   "execution_count": 16,
   "id": "9da71e17-b66e-4ab4-97e6-57a21d87cb9a",
   "metadata": {},
   "outputs": [
    {
     "name": "stdout",
     "output_type": "stream",
     "text": [
      "<class 'set'>\n",
      "{1, 2, 3, 5, 7}\n",
      "{1, 2, 34, 55}\n",
      "{1, 2, 3, 31}\n",
      "{1, 2, 3, 4, 234, 45, 22, 23, 24, 31}\n",
      "{1, 2, 34, 55}\n",
      "{1, 2, 55}\n",
      "{1, 2, 34, 55}\n",
      "{1, 2, 55}\n",
      "{1, 2, 3, 4, 5, 6}\n",
      "{1, 2, 3, 4, 5, 6}\n",
      "{2, 4}\n",
      "{2, 4}\n",
      "{1, 3, 5}\n",
      "{1, 3, 5}\n",
      "{6}\n",
      "{6}\n",
      "{1, 3, 5, 6}\n",
      "{1, 3, 5, 6}\n",
      "True\n",
      "False\n",
      "False\n",
      "True\n",
      "set()\n",
      "False\n",
      "1\n",
      "['__and__', '__class__', '__class_getitem__', '__contains__', '__delattr__', '__dir__', '__doc__', '__eq__', '__format__', '__ge__', '__getattribute__', '__gt__', '__hash__', '__iand__', '__init__', '__init_subclass__', '__ior__', '__isub__', '__iter__', '__ixor__', '__le__', '__len__', '__lt__', '__ne__', '__new__', '__or__', '__rand__', '__reduce__', '__reduce_ex__', '__repr__', '__ror__', '__rsub__', '__rxor__', '__setattr__', '__sizeof__', '__str__', '__sub__', '__subclasshook__', '__xor__', 'add', 'clear', 'copy', 'difference', 'difference_update', 'discard', 'intersection', 'intersection_update', 'isdisjoint', 'issubset', 'issuperset', 'pop', 'remove', 'symmetric_difference', 'symmetric_difference_update', 'union', 'update']\n",
      "Help on built-in function symmetric_difference:\n",
      "\n",
      "symmetric_difference(...) method of builtins.set instance\n",
      "    Return the symmetric difference of two sets as a new set.\n",
      "    \n",
      "    (i.e. all elements that are in exactly one of the sets.)\n",
      "\n",
      "None\n",
      "Object `symmetric_difference` not found.\n",
      "frozenset({1, 2, 3, 4})\n",
      "<class 'frozenset'>\n"
     ]
    }
   ],
   "source": [
    "# set --> non-indexed, but muttable is is a hash set data structure\n",
    "\n",
    "s = set()\n",
    "print(type(s))\n",
    "\n",
    "s = {1,2,3,7,5} # indexing not support\n",
    "print(s)\n",
    "\n",
    "list_0 = [1,2,34,55]\n",
    "s = set(list_0)\n",
    "print(s)\n",
    "\n",
    "s = { 1,2,31,3,1,2,3,1}\n",
    "print(s)\n",
    "# print(s[0]) #eror found set' object is not subscriptable\n",
    "\n",
    "# adding value\n",
    "s = set()\n",
    "s.add(1) ; s.add(2) ; s.add(3)\n",
    "s.update([1,22,31,4] , {23,234,24,45}) # adding multiple values\n",
    "print(s)\n",
    "\n",
    "#remove \n",
    "s = {1,2,34,55}\n",
    "print(s)\n",
    "s.remove(34)  # if element not found in the set then it throw a error\n",
    "print(s)\n",
    "\n",
    "s = {1,2,34,55}\n",
    "print(s)\n",
    "s.discard(34) # # if element not found in the set then it isn't gonna throw a error but it return the key as it is \n",
    "print(s)\n",
    "\n",
    "#we can use del to delte whole set but we cant delte a particular element by delte\n",
    "del s\n",
    "\n",
    "# function of set \n",
    "s1 = {1,2,3,4,5}\n",
    "s2 = {2,4,6}\n",
    "print (s1 | s2)\n",
    "print(s1.union(s2)) # used for union\n",
    "\n",
    "print(s1 & s2)\n",
    "print(s1.intersection(s2)) # used for intersection \n",
    "\n",
    "print(s1-s2)\n",
    "print(s1.difference(s2)) # here we subtract the elements s1 from s2\n",
    "\n",
    "print(s2-s1)\n",
    "print(s2.difference(s1)) # here we subtract the elements s2 from s1\n",
    "\n",
    "print(s1^s2)\n",
    "print(s1.symmetric_difference(s2)) # basicaly it XOR the sets 's1 ^ s2'\n",
    "\n",
    "# issubset or not\n",
    "s1 = {1,2,3,4}\n",
    "s2 = {3,4}\n",
    "\n",
    "# if the s2 is sub set of s1 then it return true \n",
    "print(s2.issubset(s1)) \n",
    "print(s1.issubset(s2))\n",
    "\n",
    "# if the s1 is sup set of s2 then it return true \n",
    "print(s2.issuperset(s1))\n",
    "print(s1.issuperset(s2))\n",
    "\n",
    "s1.clear()\n",
    "print(s1)\n",
    "\n",
    "s1 = {1,2,3,4}\n",
    "s2 = s1.copy()\n",
    "print(s1 is s2)\n",
    "\n",
    "print(s1.pop())\n",
    "\n",
    "# let say you foregt the set dir then just print the list of all methods of set in this case if we type \n",
    "print(dir(s1))\n",
    "\n",
    "# how to use that function then type -->\n",
    "print(help(s1.symmetric_difference))\n",
    "\n",
    "# frozen set  is immutable\n",
    "s = frozenset({1,2,3,4})\n",
    "print(s)\n",
    "frozenset({1,2,3,4})\n",
    "print(frozenset)\n",
    "\n"
   ]
  },
  {
   "cell_type": "code",
   "execution_count": 18,
   "id": "964636ae-e036-4968-a1d9-2bafc5cebef9",
   "metadata": {},
   "outputs": [
    {
     "name": "stdout",
     "output_type": "stream",
     "text": [
      "{1: 'utsav', 2: 'jaiswal', 3: [0, 8, 2, 0]}\n",
      "<class 'dict'>\n",
      "utsav\n",
      "{1: 'utsav', 2: 'jaiswal', 3: [0, 8, 2, 0], 4: 'master'}\n",
      "None\n",
      "[0, 8, 2, 0]\n",
      "utsav\n",
      "jaiswal\n",
      "{1: 'utsav', 3: [0, 8, 2, 0], 4: 'master'}\n",
      "(4, 'master')\n",
      "{1: 'utsav', 3: [0, 8, 2, 0]}\n",
      "{1: 2, 2: 3, 3: 4, 4: 5}\n",
      "dict_items([(1, 2), (2, 3), (3, 4), (4, 5)])\n",
      "(1, 2)\n",
      "(2, 3)\n",
      "(3, 4)\n",
      "(4, 5)\n",
      "2\n",
      "3\n",
      "4\n",
      "5\n",
      "{1: 4, 2: 9, 3: 16, 4: 25}\n"
     ]
    }
   ],
   "source": [
    "# dictionary hashmap/hashtable\n",
    "\n",
    "#syntax --> key:value,\n",
    "d = {1:\"utsav\" , 2:\"jaiswal\" , 3:[0,8,2,0]}\n",
    "print(d)\n",
    "print(type(d))\n",
    "\n",
    "# d = {\"a\":12 , \"sd\":\"qoelws\" , [1,2,3]:3 , [23,21,13,]:45} #TypeError: unhashable type: 'set' , TypeError: unhashable type: 'list'\n",
    "\n",
    "#accesing in O(1)\n",
    "print(d[1]) # it print the value at key but we cant access the key by value and threw a error when the key not found \n",
    "\n",
    "d[4] = \"master\" # inserting a key vlaue pair in dic \n",
    "print(d)\n",
    "\n",
    "# as we know hashmap derived from hash so all the basic function which we already learn in the set immplies in dictionary too\n",
    "\n",
    "#get method --> doesnt throw an error\n",
    "\n",
    "print(d.get(5))\n",
    "print(d.get(3))\n",
    "print(d.get(1))\n",
    "\n",
    "# pop and pop items\n",
    "\n",
    "print(d.pop(2))\n",
    "print(d)\n",
    "\n",
    "print(d.popitem()) # randomly removes just like pop in set\n",
    "print(d)\n",
    "\n",
    "#update\n",
    "\n",
    "d1 = { 1:2 , 2:3 , 3:4 , 4:5}\n",
    "print(d1)\n",
    "print(d1.items())\n",
    "\n",
    "for items in d1.items():\n",
    "    print(items)\n",
    "\n",
    "for v in d1.values():\n",
    "    print(v)\n",
    "    \n",
    "#deafaut key is used to set the initialize the vlaue of key first at zero\n",
    "\n",
    "#dictinary comprehension]\n",
    "d2 = {}\n",
    "\n",
    "for a, b in d1.items():\n",
    "    d2[a] = b*b\n",
    "print(d2)\n",
    "\n"
   ]
  },
  {
   "cell_type": "code",
   "execution_count": 17,
   "id": "0b52b436-c469-4687-a2d7-dece8b3e2c23",
   "metadata": {},
   "outputs": [
    {
     "name": "stdout",
     "output_type": "stream",
     "text": [
      "hello\n",
      "['__add__', '__class__', '__contains__', '__delattr__', '__dir__', '__doc__', '__eq__', '__format__', '__ge__', '__getattribute__', '__getitem__', '__getnewargs__', '__gt__', '__hash__', '__init__', '__init_subclass__', '__iter__', '__le__', '__len__', '__lt__', '__mod__', '__mul__', '__ne__', '__new__', '__reduce__', '__reduce_ex__', '__repr__', '__rmod__', '__rmul__', '__setattr__', '__sizeof__', '__str__', '__subclasshook__', 'capitalize', 'casefold', 'center', 'count', 'encode', 'endswith', 'expandtabs', 'find', 'format', 'format_map', 'index', 'isalnum', 'isalpha', 'isascii', 'isdecimal', 'isdigit', 'isidentifier', 'islower', 'isnumeric', 'isprintable', 'isspace', 'istitle', 'isupper', 'join', 'ljust', 'lower', 'lstrip', 'maketrans', 'partition', 'removeprefix', 'removesuffix', 'replace', 'rfind', 'rindex', 'rjust', 'rpartition', 'rsplit', 'rstrip', 'split', 'splitlines', 'startswith', 'strip', 'swapcase', 'title', 'translate', 'upper', 'zfill']\n"
     ]
    }
   ],
   "source": [
    "# string \n",
    "s = \"hello\"\n",
    "print(s)\n",
    "\n",
    "#methods in string all methods are too basic go to dir(string) and if you find any doubt then just use help command\n",
    "\n",
    "print(dir(s))\n",
    " "
   ]
  },
  {
   "cell_type": "code",
   "execution_count": 14,
   "id": "9083b8b9-091c-432d-a944-ca4ea6091364",
   "metadata": {},
   "outputs": [
    {
     "name": "stdin",
     "output_type": "stream",
     "text": [
      "enter the string:  madam\n"
     ]
    },
    {
     "name": "stdout",
     "output_type": "stream",
     "text": [
      "madam  is a palindrome\n"
     ]
    }
   ],
   "source": [
    "\n",
    "# write a programme check whether the given word of sting is palindrome or not\n",
    "def Checkpalindrome(str1 , length , index):\n",
    "  \n",
    "    length = len(str1) -1 \n",
    "    index = 0\n",
    "\n",
    "    while index < length:\n",
    "        if(str1[index] == str1[length]):\n",
    "            index = index + 1\n",
    "            length = length -1\n",
    "    \n",
    "        else:\n",
    "            return 0\n",
    "    \n",
    "    return 1\n",
    "\n",
    "str1 = input(\"enter the string: \")\n",
    "length = len(str1)\n",
    "index = 0\n",
    "\n",
    "ans = Checkpl(str1 , length , index)\n",
    "\n",
    "if ans == 1:\n",
    "    print(str1 , \" is a palindrome\")\n",
    "else:\n",
    "    print(str1 , \" is a not palindrome\")\n",
    "\n",
    "\n"
   ]
  },
  {
   "cell_type": "code",
   "execution_count": 28,
   "id": "9177fa22-6d61-4865-b9c4-525b08576262",
   "metadata": {},
   "outputs": [],
   "source": [
    "# write a programme to print as many possible subsets from a given string \n",
    "\n",
    "\n",
    "\n",
    "\n"
   ]
  },
  {
   "cell_type": "code",
   "execution_count": null,
   "id": "d0ab41e1-7c2d-42ff-a9d6-ad5ba4e053de",
   "metadata": {},
   "outputs": [],
   "source": []
  }
 ],
 "metadata": {
  "kernelspec": {
   "display_name": "Python 3 (ipykernel)",
   "language": "python",
   "name": "python3"
  },
  "language_info": {
   "codemirror_mode": {
    "name": "ipython",
    "version": 3
   },
   "file_extension": ".py",
   "mimetype": "text/x-python",
   "name": "python",
   "nbconvert_exporter": "python",
   "pygments_lexer": "ipython3",
   "version": "3.10.4"
  }
 },
 "nbformat": 4,
 "nbformat_minor": 5
}
