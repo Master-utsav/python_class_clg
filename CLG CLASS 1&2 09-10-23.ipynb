{
 "cells": [
  {
   "cell_type": "code",
   "execution_count": 6,
   "id": "6dbb7b49",
   "metadata": {},
   "outputs": [
    {
     "name": "stdout",
     "output_type": "stream",
     "text": [
      "greatest number is\n",
      "30\n",
      "thankyou\n"
     ]
    }
   ],
   "source": [
    "a,b,c = 10,20,30\n",
    "\n",
    "if a>b and b>c:\n",
    "    print(\"greatest number is\")\n",
    "    print(a)\n",
    "elif b>c and b>a:\n",
    "    print(\"greatest number is\")\n",
    "    print(b)\n",
    "elif c>a and c>b:\n",
    "    print(\"greatest number is\")\n",
    "    print(c)\n",
    "    \n",
    "    print(\"thankyou\")"
   ]
  },
  {
   "cell_type": "code",
   "execution_count": 9,
   "id": "b8b6df92",
   "metadata": {},
   "outputs": [
    {
     "name": "stdout",
     "output_type": "stream",
     "text": [
      "hello\n",
      "ui\n",
      "jo\n",
      "greatest number is\n",
      "ui\n"
     ]
    }
   ],
   "source": [
    "a = input();\n",
    "b = input();\n",
    "c = input();\n",
    "\n",
    "if a>b and b>c:\n",
    "    print(\"greatest number is\")\n",
    "    print(a)\n",
    "elif b>c and b>a:\n",
    "    print(\"greatest number is\")\n",
    "    print(b)\n",
    "elif c>a and c>b:\n",
    "    print(\"greatest number is\")\n",
    "    print(c)\n",
    "    \n",
    "    print(\"thankyou\")"
   ]
  },
  {
   "cell_type": "code",
   "execution_count": 11,
   "id": "3f84c84f",
   "metadata": {},
   "outputs": [
    {
     "name": "stdout",
     "output_type": "stream",
     "text": [
      "6784\n",
      "794758\n",
      "6909876\n",
      "greatest number is\n",
      "6909876\n",
      "thankyou\n"
     ]
    }
   ],
   "source": [
    "a = int(input());\n",
    "b = int(input());\n",
    "c = int(input());\n",
    "\n",
    "if a>b and b>c:\n",
    "    print(\"greatest number is\")\n",
    "    print(a)\n",
    "elif b>c and b>a:\n",
    "    print(\"greatest number is\")\n",
    "    print(b)\n",
    "elif c>a and c>b:\n",
    "    print(\"greatest number is\")\n",
    "    print(c)\n",
    "    \n",
    "    print(\"thankyou\")"
   ]
  },
  {
   "cell_type": "code",
   "execution_count": 1,
   "id": "54cd736f",
   "metadata": {},
   "outputs": [
    {
     "name": "stdin",
     "output_type": "stream",
     "text": [
      " 2\n",
      " 5\n",
      " 9\n"
     ]
    },
    {
     "name": "stdout",
     "output_type": "stream",
     "text": [
      "59\n"
     ]
    }
   ],
   "source": [
    "a = input()\n",
    "b = input()\n",
    "c = input()\n",
    "x = b + c\n",
    "\n",
    "print(x)\n"
   ]
  },
  {
   "cell_type": "code",
   "execution_count": 21,
   "id": "dd77017c-4727-48e7-b922-a7c76244a6fc",
   "metadata": {},
   "outputs": [
    {
     "name": "stdout",
     "output_type": "stream",
     "text": [
      "[1, 2, 3, 4]\n",
      "[1, 2, 3, 4]\n",
      "2\n",
      "3\n",
      "[1, 2]\n",
      "[3, 4]\n",
      "[2, 4, 6, 8]\n",
      "[1, 3, 4]\n",
      "[1, 3]\n",
      "[1, 2, 3, 4, 5, 6, 7, 8]\n"
     ]
    }
   ],
   "source": [
    "list_name = [1,2,3,4]\n",
    "\n",
    "# it is possible to create list under list ie nested list\n",
    "print(list_name)\n",
    "# print all vlaue of list \n",
    "print(list_name[:])\n",
    "# count index from the left side of a list\n",
    "print(list_name[1])\n",
    "# count index from the left side of a list\n",
    "print(list_name[-2])\n",
    "# not inc. last given value index but left side inc. \n",
    "print(list_name[0 : 2])\n",
    "\n",
    "# print upto last but we here define the initital index of the list \n",
    "print(list_name[2:])\n",
    "\n",
    "# list_up step value \n",
    "list_name2 = [1,2,3,4,5,6,7,8,9]\n",
    "print(list_name2[1::2]) # str value : end vlue : step vlue \n",
    "\n",
    "list_name.remove(2) # it remove the exact elemnet from an list not  from the index of A list\n",
    "print(list_name)\n",
    "\n",
    "list_name.pop(2) # it pop out the element form the index of that list \n",
    "print(list_name)\n",
    "\n",
    "list_name = [1,2,3,4,5,6,7,8,9] # this will also work as same as pop but not same as remove\n",
    "del list_name[8]\n",
    "print(list_name)\n"
   ]
  },
  {
   "cell_type": "code",
   "execution_count": 22,
   "id": "32b3ba76-0c36-471c-ad35-7ef8679c3060",
   "metadata": {},
   "outputs": [
    {
     "name": "stdout",
     "output_type": "stream",
     "text": [
      "[1, 2, 3, 4, 5, 6, 7, 8, 9, 0, 'utsav', [12, 13, 14, 15]]\n"
     ]
    }
   ],
   "source": [
    "# list append\n",
    "\n",
    "list_0 = [1,2,3,4,5,6,7,8,9]\n",
    "list_0.append(0)\n",
    "list_0.append(\"utsav\")\n",
    "list_0.append([12,13,14,15])\n",
    "\n",
    "print(list_0)"
   ]
  },
  {
   "cell_type": "code",
   "execution_count": 26,
   "id": "aee723b4-80f9-4a04-b49c-21bbf567dc8a",
   "metadata": {},
   "outputs": [
    {
     "name": "stdout",
     "output_type": "stream",
     "text": [
      "[1, 2, 3, 10, 4, 5, 6, 7, 8, 9]\n"
     ]
    }
   ],
   "source": [
    "# list insert\n",
    "list_0 = [1,2,3,4,5,6,7,8,9]\n",
    "list_0.insert(3, 10)\n",
    "print(list_0)"
   ]
  },
  {
   "cell_type": "code",
   "execution_count": 27,
   "id": "ad8b005f-db61-4f09-bd03-95ef99062218",
   "metadata": {},
   "outputs": [
    {
     "name": "stdout",
     "output_type": "stream",
     "text": [
      "[1, 2, 3, 4, 5, 6, 7, 8, 9, 0, 'utsav', 12, 13, 14, 15]\n"
     ]
    }
   ],
   "source": [
    "# list extend you can also use + \n",
    "list_0 = [1,2,3,4,5,6,7,8,9] \n",
    "list_0.append(0)\n",
    "list_0.append(\"utsav\")\n",
    "list_0.extend([12,13,14,15])\n",
    "\n",
    "print(list_0)\n"
   ]
  },
  {
   "cell_type": "code",
   "execution_count": 31,
   "id": "ce6b9157-2316-448a-a9b8-5b8a60539595",
   "metadata": {},
   "outputs": [
    {
     "name": "stdout",
     "output_type": "stream",
     "text": [
      "[2, 2, 3, 3, 5, 67, 562, 566, 64567]\n"
     ]
    }
   ],
   "source": [
    "# sorting \n",
    "list_0 = [3,562,3,5,2,67,2,566,64567]\n",
    "list_0 = sorted(list_0)\n",
    "print(list_0)\n",
    "\n",
    "#sort used for dec.\n",
    "\n"
   ]
  },
  {
   "cell_type": "code",
   "execution_count": 40,
   "id": "06d77087-b7e2-46fc-a867-113cc03ca5f5",
   "metadata": {},
   "outputs": [
    {
     "name": "stdout",
     "output_type": "stream",
     "text": [
      "True\n",
      "False\n"
     ]
    }
   ],
   "source": [
    "# identity operator\n",
    "list_0 = [1,2,3,4,5,6,7,8,9] \n",
    "list_1 = list_0\n",
    "print(list_0 is list_1) \n",
    "\n",
    "list_1 = list_0.append(5)\n",
    "print(list_0 is list_1)\n",
    "\n",
    "\n",
    "\n",
    "\n"
   ]
  },
  {
   "cell_type": "code",
   "execution_count": 38,
   "id": "74127a13-b730-4391-ae4d-07e67d9b847d",
   "metadata": {},
   "outputs": [
    {
     "name": "stdout",
     "output_type": "stream",
     "text": [
      "True\n",
      "False\n"
     ]
    }
   ],
   "source": [
    "# membership operator\n",
    "list_0 = [1,2,3,4]\n",
    "print(3 in list_1) # return true if 3 is in the list_1\n",
    "print(3 not in list_1) # return false if 3 is in the list_1"
   ]
  },
  {
   "cell_type": "code",
   "execution_count": 67,
   "id": "4ca63c69-96a3-4827-8da7-8d90d8670791",
   "metadata": {},
   "outputs": [],
   "source": [
    "# while loop conditional statemnet\\\n",
    "def reverseNum(num):\n",
    "    ans = 0\n",
    "    while num > 0:\n",
    "        rem = num%10\n",
    "        ans = 10*ans + rem\n",
    "        num /=10\n",
    "    else:\n",
    "        return ans\n",
    "\n",
    "def main():\n",
    "    a = int(input())\n",
    "    print(\"before reversing a number\")\n",
    "    print(a)\n",
    "    reversenumber = reverseNum(a)\n",
    "    print(\"after reversing a number\")\n",
    "    print(reversenumber)"
   ]
  },
  {
   "cell_type": "code",
   "execution_count": 83,
   "id": "855a9d80-1c7b-4b0e-b3e2-b9748354c991",
   "metadata": {},
   "outputs": [
    {
     "name": "stdout",
     "output_type": "stream",
     "text": [
      "1\n",
      "2\n",
      "3\n",
      "4\n",
      "5\n",
      "6\n",
      "7\n",
      "8\n",
      "9\n"
     ]
    }
   ],
   "source": [
    "# for loop' \n",
    "\n",
    "for i in range( 1, 10): #10 is in open bracket always\n",
    "    print(i)\n",
    "    i += 1"
   ]
  },
  {
   "cell_type": "code",
   "execution_count": null,
   "id": "10c725e5-2b6c-47f0-8f8c-c5e137aadce3",
   "metadata": {},
   "outputs": [],
   "source": [
    "# break continue chindi topic hai koi bhi karleg\n"
   ]
  },
  {
   "cell_type": "code",
   "execution_count": null,
   "id": "eadddf23-8fc7-4324-bb33-dca5e197ecf0",
   "metadata": {},
   "outputs": [],
   "source": [
    "# 2-d matrix by for loop in range easily set that "
   ]
  },
  {
   "cell_type": "code",
   "execution_count": 88,
   "id": "7b385f8c-58e4-43eb-bf99-7e87850673c2",
   "metadata": {},
   "outputs": [
    {
     "name": "stdout",
     "output_type": "stream",
     "text": [
      "(1, 2, 3)\n",
      "(1, 2, 3, 4.4, 'hello', 0.0002, [1, 2, 3], (1, 2, 3))\n",
      "(1, 2, 3, 4.4, 'hello', 0.0002, [9, 2, 3], (1, 2, 3))\n",
      "(1, 2, 3, 4.4, 'hello', 0.0002, [9, 2, 3, 10], (1, 2, 3))\n",
      "(3, 2, 1)\n",
      "('utsav', 'jaiswal')\n",
      "<class 'tuple'>\n",
      "6\n",
      "1\n",
      "56\n",
      "73\n"
     ]
    }
   ],
   "source": [
    "# tuples --> immutable indexed data str\n",
    "# creation\n",
    "t = () # --> empty tuple in tuples , important but not parenthesisi\n",
    "t = (1,2,3)\n",
    "print(t)\n",
    "\n",
    "t = (1,2,3,4.4, \"hello\" , 0.0002 , [1,2,3] , (1,2,3))\n",
    "print(t)# 2-d matrix by for loop in range easily set that \n",
    "\n",
    "# you can do slicing operations in tuples\n",
    "\n",
    "# del t   it delte the entier tuple\n",
    "\n",
    "# we cant change tuple but we can change the value of list items if there is a list in our tupple\n",
    "\n",
    "t = (1,2,3,4.4, \"hello\" , 0.0002 , [1,2,3] , (1,2,3)) \n",
    "t[-2][0] = 9 # example\n",
    "print(t)\n",
    "\n",
    "t[-2].append(10) #c we can append too\n",
    "print(t)\n",
    "\n",
    "# sorting in tuples\n",
    "\n",
    "t = (3,2,1)\n",
    "\n",
    "# check cehck check check\n",
    "print(t)\n",
    "\n",
    "t = \"utsav\" , \"jaiswal\"\n",
    "print(t)\n",
    "print(type(t))\n",
    "\n",
    "# functions\n",
    "t = 1,2,3,4,56,7\n",
    "print(len(t))\n",
    "print(min(t))\n",
    "print(max(t))\n",
    "print(sum(t))\n",
    "\n"
   ]
  },
  {
   "cell_type": "code",
   "execution_count": 89,
   "id": "9da71e17-b66e-4ab4-97e6-57a21d87cb9a",
   "metadata": {},
   "outputs": [
    {
     "name": "stdout",
     "output_type": "stream",
     "text": [
      "<class 'set'>\n",
      "{1, 2, 3, 5, 7}\n"
     ]
    }
   ],
   "source": [
    "# set --> non-indexed, but muttable is is a hash set datat structure\n",
    "\n",
    "s = set()\n",
    "print(type(s))\n",
    "\n",
    "s = {1,2,3,7,5} # indexing not support\n",
    "print(s)\n",
    "\n"
   ]
  },
  {
   "cell_type": "code",
   "execution_count": null,
   "id": "964636ae-e036-4968-a1d9-2bafc5cebef9",
   "metadata": {},
   "outputs": [],
   "source": []
  }
 ],
 "metadata": {
  "kernelspec": {
   "display_name": "Python 3 (ipykernel)",
   "language": "python",
   "name": "python3"
  },
  "language_info": {
   "codemirror_mode": {
    "name": "ipython",
    "version": 3
   },
   "file_extension": ".py",
   "mimetype": "text/x-python",
   "name": "python",
   "nbconvert_exporter": "python",
   "pygments_lexer": "ipython3",
   "version": "3.10.4"
  }
 },
 "nbformat": 4,
 "nbformat_minor": 5
}
